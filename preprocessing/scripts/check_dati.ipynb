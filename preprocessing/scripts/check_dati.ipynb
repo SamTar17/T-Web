{
 "cells": [
  {
   "cell_type": "code",
   "execution_count": 4,
   "id": "a6bd850a",
   "metadata": {},
   "outputs": [],
   "source": [
    "import pandas as pd\n",
    "import html\n",
    "import re\n",
    "import codecs\n",
    "import os "
   ]
  },
  {
   "cell_type": "code",
   "execution_count": 5,
   "id": "5cb1e5c7",
   "metadata": {},
   "outputs": [],
   "source": [
    "data = {}\n",
    "for csv in os.listdir('../../data'):\n",
    "    name = csv.replace('.csv','')\n",
    "    data[name] = pd.read_csv(os.path.join('../../data',csv))"
   ]
  },
  {
   "cell_type": "code",
   "execution_count": 14,
   "id": "c5cac3f0",
   "metadata": {},
   "outputs": [
    {
     "name": "stdout",
     "output_type": "stream",
     "text": [
      "              id                name  role\n",
      "17787    1000287        Ted McCarthy     2\n",
      "92366    1001880      Diana Davidson     2\n",
      "95423    1001950         David Clark     2\n",
      "151263   1003380     Nicholas Quirke     2\n",
      "160186   1003633   Nathaniel Spencer     2\n",
      "...          ...                 ...   ...\n",
      "5793051  1940313          John Enick     2\n",
      "5793765  1940580        Bradley Bell     2\n",
      "5796036  1941184  Janna van der Valk     2\n",
      "5796114  1941230  Janna van der Valk     2\n",
      "5796260  1941312  Janna van der Valk     2\n",
      "\n",
      "[640 rows x 3 columns]\n"
     ]
    }
   ],
   "source": [
    "multi_roles = data['actors'].groupby(['id', 'name'])['role'].nunique().reset_index()\n",
    "\n",
    "# Tieni solo quelli con più di un ruolo\n",
    "multi_roles = multi_roles[multi_roles['role'] > 1]\n",
    "\n",
    "print(multi_roles)"
   ]
  },
  {
   "cell_type": "code",
   "execution_count": null,
   "id": "b3773ab7",
   "metadata": {},
   "outputs": [
    {
     "name": "stdout",
     "output_type": "stream",
     "text": [
      "actors\n",
      "<class 'pandas.core.frame.DataFrame'>\n",
      "RangeIndex: 5798450 entries, 0 to 5798449\n",
      "Data columns (total 3 columns):\n",
      " #   Column  Dtype \n",
      "---  ------  ----- \n",
      " 0   id      int64 \n",
      " 1   name    object\n",
      " 2   role    object\n",
      "dtypes: int64(1), object(2)\n",
      "memory usage: 132.7+ MB\n",
      "None\n",
      "\n",
      "\n",
      "\n",
      "countries\n",
      "<class 'pandas.core.frame.DataFrame'>\n",
      "RangeIndex: 693476 entries, 0 to 693475\n",
      "Data columns (total 2 columns):\n",
      " #   Column   Non-Null Count   Dtype \n",
      "---  ------   --------------   ----- \n",
      " 0   id       693476 non-null  int64 \n",
      " 1   country  693476 non-null  object\n",
      "dtypes: int64(1), object(1)\n",
      "memory usage: 10.6+ MB\n",
      "None\n",
      "\n",
      "\n",
      "\n",
      "crew\n",
      "<class 'pandas.core.frame.DataFrame'>\n",
      "RangeIndex: 4720183 entries, 0 to 4720182\n",
      "Data columns (total 3 columns):\n",
      " #   Column  Dtype \n",
      "---  ------  ----- \n",
      " 0   id      int64 \n",
      " 1   role    object\n",
      " 2   name    object\n",
      "dtypes: int64(1), object(2)\n",
      "memory usage: 108.0+ MB\n",
      "None\n",
      "\n",
      "\n",
      "\n",
      "genres\n",
      "<class 'pandas.core.frame.DataFrame'>\n",
      "RangeIndex: 1046849 entries, 0 to 1046848\n",
      "Data columns (total 2 columns):\n",
      " #   Column  Non-Null Count    Dtype \n",
      "---  ------  --------------    ----- \n",
      " 0   id      1046849 non-null  int64 \n",
      " 1   genre   1046849 non-null  object\n",
      "dtypes: int64(1), object(1)\n",
      "memory usage: 16.0+ MB\n",
      "None\n",
      "\n",
      "\n",
      "\n",
      "languages\n",
      "<class 'pandas.core.frame.DataFrame'>\n",
      "RangeIndex: 1038762 entries, 0 to 1038761\n",
      "Data columns (total 3 columns):\n",
      " #   Column    Non-Null Count    Dtype \n",
      "---  ------    --------------    ----- \n",
      " 0   id        1038762 non-null  int64 \n",
      " 1   type      1038762 non-null  object\n",
      " 2   language  1038762 non-null  object\n",
      "dtypes: int64(1), object(2)\n",
      "memory usage: 23.8+ MB\n",
      "None\n",
      "\n",
      "\n",
      "\n",
      "movies\n",
      "<class 'pandas.core.frame.DataFrame'>\n",
      "RangeIndex: 941597 entries, 0 to 941596\n",
      "Data columns (total 7 columns):\n",
      " #   Column       Non-Null Count   Dtype  \n",
      "---  ------       --------------   -----  \n",
      " 0   id           941597 non-null  int64  \n",
      " 1   name         941587 non-null  object \n",
      " 2   date         849684 non-null  float64\n",
      " 3   tagline      139387 non-null  object \n",
      " 4   description  780785 non-null  object \n",
      " 5   minute       760027 non-null  float64\n",
      " 6   rating       90999 non-null   float64\n",
      "dtypes: float64(3), int64(1), object(3)\n",
      "memory usage: 50.3+ MB\n",
      "None\n",
      "\n",
      "\n",
      "\n",
      "posters\n",
      "<class 'pandas.core.frame.DataFrame'>\n",
      "RangeIndex: 941597 entries, 0 to 941596\n",
      "Data columns (total 2 columns):\n",
      " #   Column  Non-Null Count   Dtype \n",
      "---  ------  --------------   ----- \n",
      " 0   id      941597 non-null  int64 \n",
      " 1   link    760885 non-null  object\n",
      "dtypes: int64(1), object(1)\n",
      "memory usage: 14.4+ MB\n",
      "None\n",
      "\n",
      "\n",
      "\n",
      "releases\n",
      "<class 'pandas.core.frame.DataFrame'>\n",
      "RangeIndex: 1332782 entries, 0 to 1332781\n",
      "Data columns (total 5 columns):\n",
      " #   Column   Non-Null Count    Dtype \n",
      "---  ------   --------------    ----- \n",
      " 0   id       1332782 non-null  int64 \n",
      " 1   country  1332782 non-null  object\n",
      " 2   date     1332782 non-null  object\n",
      " 3   type     1332782 non-null  object\n",
      " 4   rating   333980 non-null   object\n",
      "dtypes: int64(1), object(4)\n",
      "memory usage: 50.8+ MB\n",
      "None\n",
      "\n",
      "\n",
      "\n",
      "rotten_tomatoes_reviews\n",
      "<class 'pandas.core.frame.DataFrame'>\n",
      "RangeIndex: 1129887 entries, 0 to 1129886\n",
      "Data columns (total 9 columns):\n",
      " #   Column                Non-Null Count    Dtype \n",
      "---  ------                --------------    ----- \n",
      " 0   rotten_tomatoes_link  1129887 non-null  object\n",
      " 1   movie_title           1129887 non-null  object\n",
      " 2   critic_name           1111366 non-null  object\n",
      " 3   top_critic            1129887 non-null  bool  \n",
      " 4   publisher_name        1129887 non-null  object\n",
      " 5   review_type           1129887 non-null  object\n",
      " 6   review_score          823985 non-null   object\n",
      " 7   review_date           1129887 non-null  object\n",
      " 8   review_content        1064109 non-null  object\n",
      "dtypes: bool(1), object(8)\n",
      "memory usage: 70.0+ MB\n",
      "None\n",
      "\n",
      "\n",
      "\n",
      "studios\n",
      "<class 'pandas.core.frame.DataFrame'>\n",
      "RangeIndex: 679283 entries, 0 to 679282\n",
      "Data columns (total 2 columns):\n",
      " #   Column  Non-Null Count   Dtype \n",
      "---  ------  --------------   ----- \n",
      " 0   id      679283 non-null  int64 \n",
      " 1   studio  679273 non-null  object\n",
      "dtypes: int64(1), object(1)\n",
      "memory usage: 10.4+ MB\n",
      "None\n",
      "\n",
      "\n",
      "\n",
      "themes\n",
      "<class 'pandas.core.frame.DataFrame'>\n",
      "RangeIndex: 125641 entries, 0 to 125640\n",
      "Data columns (total 2 columns):\n",
      " #   Column  Non-Null Count   Dtype \n",
      "---  ------  --------------   ----- \n",
      " 0   id      125641 non-null  int64 \n",
      " 1   theme   125641 non-null  object\n",
      "dtypes: int64(1), object(1)\n",
      "memory usage: 1.9+ MB\n",
      "None\n",
      "\n",
      "\n",
      "\n",
      "the_oscar_awards\n",
      "<class 'pandas.core.frame.DataFrame'>\n",
      "RangeIndex: 10889 entries, 0 to 10888\n",
      "Data columns (total 7 columns):\n",
      " #   Column         Non-Null Count  Dtype \n",
      "---  ------         --------------  ----- \n",
      " 0   year_film      10889 non-null  int64 \n",
      " 1   year_ceremony  10889 non-null  int64 \n",
      " 2   ceremony       10889 non-null  int64 \n",
      " 3   category       10889 non-null  object\n",
      " 4   name           10884 non-null  object\n",
      " 5   film           10570 non-null  object\n",
      " 6   winner         10889 non-null  bool  \n",
      "dtypes: bool(1), int64(3), object(3)\n",
      "memory usage: 521.2+ KB\n",
      "None\n",
      "\n",
      "\n",
      "\n"
     ]
    }
   ],
   "source": [
    "for name,df in data.items():\n",
    "    \n",
    "    print(df.info())\n",
    "    print('\\n\\n')"
   ]
  },
  {
   "cell_type": "code",
   "execution_count": 3,
   "id": "97f178d7",
   "metadata": {},
   "outputs": [
    {
     "name": "stdout",
     "output_type": "stream",
     "text": [
      "+++++ actors +++++\n",
      "\n",
      "id:\n",
      "  Non-null: 5798450\n",
      "  Null: 0\n",
      "  Unique values: 634302\n",
      "\n",
      "name:\n",
      "  Non-null: 5798446\n",
      "  Null: 4\n",
      "  Unique values: 1600662\n",
      "\n",
      "role:\n",
      "  Non-null: 4436891\n",
      "  Null: 1361559\n",
      "  Unique values: 1920085\n",
      "+++++ countries +++++\n",
      "\n",
      "id:\n",
      "  Non-null: 693476\n",
      "  Null: 0\n",
      "  Unique values: 617192\n",
      "\n",
      "country:\n",
      "  Non-null: 693476\n",
      "  Null: 0\n",
      "  Unique values: 247\n",
      "+++++ crew +++++\n",
      "\n",
      "id:\n",
      "  Non-null: 4720183\n",
      "  Null: 0\n",
      "  Unique values: 807062\n",
      "\n",
      "role:\n",
      "  Non-null: 4720183\n",
      "  Null: 0\n",
      "  Unique values: 29\n",
      "\n",
      "name:\n",
      "  Non-null: 4720182\n",
      "  Null: 1\n",
      "  Unique values: 1147402\n",
      "+++++ genres +++++\n",
      "\n",
      "id:\n",
      "  Non-null: 1046849\n",
      "  Null: 0\n",
      "  Unique values: 676491\n",
      "\n",
      "genre:\n",
      "  Non-null: 1046849\n",
      "  Null: 0\n",
      "  Unique values: 19\n",
      "+++++ languages +++++\n",
      "\n",
      "id:\n",
      "  Non-null: 1038762\n",
      "  Null: 0\n",
      "  Unique values: 905578\n",
      "\n",
      "type:\n",
      "  Non-null: 1038762\n",
      "  Null: 0\n",
      "  Unique values: 3\n",
      "\n",
      "language:\n",
      "  Non-null: 1038762\n",
      "  Null: 0\n",
      "  Unique values: 192\n",
      "+++++ movies +++++\n",
      "\n",
      "id:\n",
      "  Non-null: 941597\n",
      "  Null: 0\n",
      "  Unique values: 941597\n",
      "\n",
      "name:\n",
      "  Non-null: 941587\n",
      "  Null: 10\n",
      "  Unique values: 795421\n",
      "\n",
      "date:\n",
      "  Non-null: 849684\n",
      "  Null: 91913\n",
      "  Unique values: 149\n",
      "\n",
      "tagline:\n",
      "  Non-null: 139387\n",
      "  Null: 802210\n",
      "  Unique values: 135521\n",
      "\n",
      "description:\n",
      "  Non-null: 780785\n",
      "  Null: 160812\n",
      "  Unique values: 763348\n",
      "\n",
      "minute:\n",
      "  Non-null: 760027\n",
      "  Null: 181570\n",
      "  Unique values: 1034\n",
      "\n",
      "rating:\n",
      "  Non-null: 90999\n",
      "  Null: 850598\n",
      "  Unique values: 355\n",
      "+++++ posters +++++\n",
      "\n",
      "id:\n",
      "  Non-null: 941597\n",
      "  Null: 0\n",
      "  Unique values: 941597\n",
      "\n",
      "link:\n",
      "  Non-null: 760885\n",
      "  Null: 180712\n",
      "  Unique values: 759599\n",
      "+++++ releases +++++\n",
      "\n",
      "id:\n",
      "  Non-null: 1332782\n",
      "  Null: 0\n",
      "  Unique values: 826018\n",
      "\n",
      "country:\n",
      "  Non-null: 1332782\n",
      "  Null: 0\n",
      "  Unique values: 246\n",
      "\n",
      "date:\n",
      "  Non-null: 1332782\n",
      "  Null: 0\n",
      "  Unique values: 43108\n",
      "\n",
      "type:\n",
      "  Non-null: 1332782\n",
      "  Null: 0\n",
      "  Unique values: 6\n",
      "\n",
      "rating:\n",
      "  Non-null: 333980\n",
      "  Null: 998802\n",
      "  Unique values: 284\n",
      "+++++ rotten_tomatoes_reviews +++++\n",
      "\n",
      "rotten_tomatoes_link:\n",
      "  Non-null: 1129887\n",
      "  Null: 0\n",
      "  Unique values: 17706\n",
      "\n",
      "movie_title:\n",
      "  Non-null: 1129887\n",
      "  Null: 0\n",
      "  Unique values: 17100\n",
      "\n",
      "critic_name:\n",
      "  Non-null: 1111366\n",
      "  Null: 18521\n",
      "  Unique values: 11108\n",
      "\n",
      "top_critic:\n",
      "  Non-null: 1129887\n",
      "  Null: 0\n",
      "  Unique values: 2\n",
      "\n",
      "publisher_name:\n",
      "  Non-null: 1129887\n",
      "  Null: 0\n",
      "  Unique values: 2230\n",
      "\n",
      "review_type:\n",
      "  Non-null: 1129887\n",
      "  Null: 0\n",
      "  Unique values: 2\n",
      "\n",
      "review_score:\n",
      "  Non-null: 823985\n",
      "  Null: 305902\n",
      "  Unique values: 814\n",
      "\n",
      "review_date:\n",
      "  Non-null: 1129887\n",
      "  Null: 0\n",
      "  Unique values: 8015\n",
      "\n",
      "review_content:\n",
      "  Non-null: 1064109\n",
      "  Null: 65778\n",
      "  Unique values: 949079\n",
      "+++++ studios +++++\n",
      "\n",
      "id:\n",
      "  Non-null: 679283\n",
      "  Null: 0\n",
      "  Unique values: 438197\n",
      "\n",
      "studio:\n",
      "  Non-null: 679273\n",
      "  Null: 10\n",
      "  Unique values: 160881\n",
      "+++++ themes +++++\n",
      "\n",
      "id:\n",
      "  Non-null: 125641\n",
      "  Null: 0\n",
      "  Unique values: 24508\n",
      "\n",
      "theme:\n",
      "  Non-null: 125641\n",
      "  Null: 0\n",
      "  Unique values: 109\n",
      "+++++ the_oscar_awards +++++\n",
      "\n",
      "year_film:\n",
      "  Non-null: 10889\n",
      "  Null: 0\n",
      "  Unique values: 96\n",
      "\n",
      "year_ceremony:\n",
      "  Non-null: 10889\n",
      "  Null: 0\n",
      "  Unique values: 96\n",
      "\n",
      "ceremony:\n",
      "  Non-null: 10889\n",
      "  Null: 0\n",
      "  Unique values: 96\n",
      "\n",
      "category:\n",
      "  Non-null: 10889\n",
      "  Null: 0\n",
      "  Unique values: 115\n",
      "\n",
      "name:\n",
      "  Non-null: 10884\n",
      "  Null: 5\n",
      "  Unique values: 7039\n",
      "\n",
      "film:\n",
      "  Non-null: 10570\n",
      "  Null: 319\n",
      "  Unique values: 5041\n",
      "\n",
      "winner:\n",
      "  Non-null: 10889\n",
      "  Null: 0\n",
      "  Unique values: 2\n"
     ]
    }
   ],
   "source": [
    "for name,df in data.items():\n",
    "    print('+++++',name,'+++++')\n",
    "    for col in df.columns:\n",
    "        print(f\"\\n{col}:\")\n",
    "        print(f\"  Non-null: {df[col].count()}\")\n",
    "        print(f\"  Null: {df[col].isnull().sum()}\")\n",
    "        print(f\"  Unique values: {df[col].nunique()}\")"
   ]
  },
  {
   "cell_type": "code",
   "execution_count": 49,
   "id": "8f4ddba9",
   "metadata": {},
   "outputs": [
    {
     "data": {
      "application/vnd.microsoft.datawrangler.viewer.v0+json": {
       "columns": [
        {
         "name": "index",
         "rawType": "int64",
         "type": "integer"
        },
        {
         "name": "rating",
         "rawType": "bool",
         "type": "boolean"
        }
       ],
       "ref": "5621b72b-4412-427a-8044-74b77ffd6db3",
       "rows": [
        [
         "0",
         "False"
        ],
        [
         "1",
         "False"
        ],
        [
         "2",
         "False"
        ],
        [
         "3",
         "False"
        ],
        [
         "4",
         "False"
        ],
        [
         "5",
         "False"
        ],
        [
         "6",
         "False"
        ],
        [
         "7",
         "False"
        ],
        [
         "8",
         "False"
        ],
        [
         "9",
         "False"
        ],
        [
         "10",
         "False"
        ],
        [
         "11",
         "False"
        ],
        [
         "12",
         "False"
        ],
        [
         "13",
         "False"
        ],
        [
         "14",
         "False"
        ],
        [
         "15",
         "False"
        ],
        [
         "16",
         "False"
        ],
        [
         "17",
         "False"
        ],
        [
         "18",
         "False"
        ],
        [
         "19",
         "False"
        ],
        [
         "20",
         "False"
        ],
        [
         "21",
         "False"
        ],
        [
         "22",
         "False"
        ],
        [
         "23",
         "False"
        ],
        [
         "24",
         "False"
        ],
        [
         "25",
         "False"
        ],
        [
         "26",
         "False"
        ],
        [
         "27",
         "False"
        ],
        [
         "28",
         "False"
        ],
        [
         "29",
         "False"
        ],
        [
         "30",
         "False"
        ],
        [
         "31",
         "False"
        ],
        [
         "32",
         "False"
        ],
        [
         "33",
         "False"
        ],
        [
         "34",
         "False"
        ],
        [
         "35",
         "False"
        ],
        [
         "36",
         "False"
        ],
        [
         "37",
         "False"
        ],
        [
         "38",
         "False"
        ],
        [
         "39",
         "False"
        ],
        [
         "40",
         "False"
        ],
        [
         "41",
         "False"
        ],
        [
         "42",
         "False"
        ],
        [
         "43",
         "False"
        ],
        [
         "44",
         "False"
        ],
        [
         "45",
         "False"
        ],
        [
         "46",
         "False"
        ],
        [
         "47",
         "False"
        ],
        [
         "48",
         "False"
        ],
        [
         "49",
         "False"
        ]
       ],
       "shape": {
        "columns": 1,
        "rows": 941597
       }
      },
      "text/plain": [
       "0         False\n",
       "1         False\n",
       "2         False\n",
       "3         False\n",
       "4         False\n",
       "          ...  \n",
       "941592     True\n",
       "941593     True\n",
       "941594     True\n",
       "941595     True\n",
       "941596     True\n",
       "Name: rating, Length: 941597, dtype: bool"
      ]
     },
     "execution_count": 49,
     "metadata": {},
     "output_type": "execute_result"
    }
   ],
   "source": [
    "data['movies'].rating.isnull()"
   ]
  }
 ],
 "metadata": {
  "kernelspec": {
   "display_name": "venv",
   "language": "python",
   "name": "python3"
  },
  "language_info": {
   "codemirror_mode": {
    "name": "ipython",
    "version": 3
   },
   "file_extension": ".py",
   "mimetype": "text/x-python",
   "name": "python",
   "nbconvert_exporter": "python",
   "pygments_lexer": "ipython3",
   "version": "3.13.3"
  }
 },
 "nbformat": 4,
 "nbformat_minor": 5
}
