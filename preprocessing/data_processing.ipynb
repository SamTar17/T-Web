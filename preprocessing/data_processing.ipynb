{
 "cells": [
  {
   "cell_type": "code",
   "execution_count": 12,
   "id": "624bca4a",
   "metadata": {},
   "outputs": [],
   "source": [
    "import pandas as pd\n",
    "from pathlib import Path\n",
    "from scripts.normalizzatori import normalizza_descrizione,normalizza_titolo,normalizza_valutazioni"
   ]
  },
  {
   "cell_type": "code",
   "execution_count": 13,
   "id": "c13c2cb0",
   "metadata": {},
   "outputs": [],
   "source": [
    "base_dir = Path().resolve().parent  # root\n",
    "data_path = base_dir / 'data'\n",
    "data_clean_path = base_dir / 'data_clean'\n",
    "data={}"
   ]
  },
  {
   "cell_type": "code",
   "execution_count": 14,
   "id": "927a6b56",
   "metadata": {},
   "outputs": [],
   "source": [
    "for file in data_path.glob('*.csv'):\n",
    "    nome = file.stem\n",
    "    data[nome] = pd.read_csv(file)"
   ]
  },
  {
   "cell_type": "markdown",
   "id": "eeb1d2f8",
   "metadata": {},
   "source": [
    "droppiamo tutti i film che non hanno nome "
   ]
  },
  {
   "cell_type": "code",
   "execution_count": 15,
   "id": "8c741613",
   "metadata": {},
   "outputs": [],
   "source": [
    "data['the_oscar_awards'] = data['the_oscar_awards'].dropna(subset='film')\n",
    "data['rotten_tomatoes_reviews'] = data['rotten_tomatoes_reviews'].dropna(subset='movie_title')"
   ]
  },
  {
   "cell_type": "markdown",
   "id": "f7fb33c1",
   "metadata": {},
   "source": [
    "normalizzazione descrizioni e recensioni di rotten_tomato "
   ]
  },
  {
   "cell_type": "code",
   "execution_count": 16,
   "id": "450d9301",
   "metadata": {},
   "outputs": [],
   "source": [
    "data['rotten_tomatoes_reviews'].review_score = data['rotten_tomatoes_reviews'].review_score.apply(normalizza_valutazioni)\n",
    "data['movies']['description'] = normalizza_descrizione(data['movies']['description'])\n",
    "data['movies'].date =  data['movies'].date.astype('Int64')"
   ]
  },
  {
   "cell_type": "markdown",
   "id": "5af3ccdf",
   "metadata": {},
   "source": [
    "matching ID tra rotten_tomatoes_reviews, the_oscar_awards e movies.id"
   ]
  },
  {
   "cell_type": "code",
   "execution_count": 17,
   "id": "1ff8093f",
   "metadata": {},
   "outputs": [],
   "source": [
    "data['movies']['name_clean'] = data['movies']['name'].apply(normalizza_titolo)\n",
    "data['rotten_tomatoes_reviews']['movie_name_clean'] = data['rotten_tomatoes_reviews']['movie_title'].apply(lambda x: normalizza_titolo(x, parentesi=True))\n",
    "data['the_oscar_awards']['film_clean'] = data['the_oscar_awards']['film'].apply(lambda x: normalizza_titolo(x, parentesi=True))"
   ]
  },
  {
   "cell_type": "code",
   "execution_count": 18,
   "id": "61118a0d",
   "metadata": {},
   "outputs": [],
   "source": [
    "movies_unique = data['movies'].drop_duplicates(subset='name_clean')"
   ]
  },
  {
   "cell_type": "code",
   "execution_count": 19,
   "id": "90a26d21",
   "metadata": {},
   "outputs": [],
   "source": [
    "data['rotten_tomatoes_reviews'] = data['rotten_tomatoes_reviews'].merge(movies_unique[['id', 'name_clean']], left_on='movie_name_clean', right_on='name_clean', how='left').drop(columns=['movie_name_clean','name_clean'])\n",
    "data['the_oscar_awards'] = data['the_oscar_awards'].merge(movies_unique[['id', 'name_clean']], left_on='film_clean', right_on='name_clean', how='left').drop(columns=['film_clean','name_clean'])\n",
    "data['movies'] = data['movies'].drop(columns='name_clean')"
   ]
  },
  {
   "cell_type": "code",
   "execution_count": 20,
   "id": "c8a38a62",
   "metadata": {},
   "outputs": [],
   "source": [
    "data['the_oscar_awards'].id = data['the_oscar_awards'].id.astype('Int64')\n",
    "data['rotten_tomatoes_reviews'].id = data['rotten_tomatoes_reviews'].id.astype('Int64')"
   ]
  },
  {
   "cell_type": "code",
   "execution_count": 21,
   "id": "fe27c2c4",
   "metadata": {},
   "outputs": [],
   "source": [
    "for name,df in data.items():\n",
    "    if name != 'movie':\n",
    "        df= df.rename(columns={'id':'movie_id'})\n",
    "\n",
    "    df.to_csv(data_clean_path / f'{name}.csv', index=False)"
   ]
  },
  {
   "cell_type": "markdown",
   "id": "9c18a4bc",
   "metadata": {},
   "source": [
    "FILM PERSI \n",
    "\n",
    "3.2929974211465978 oscar persi  \n",
    "4.87719298245614 rotten persi "
   ]
  }
 ],
 "metadata": {
  "kernelspec": {
   "display_name": "venv",
   "language": "python",
   "name": "python3"
  },
  "language_info": {
   "codemirror_mode": {
    "name": "ipython",
    "version": 3
   },
   "file_extension": ".py",
   "mimetype": "text/x-python",
   "name": "python",
   "nbconvert_exporter": "python",
   "pygments_lexer": "ipython3",
   "version": "3.13.3"
  }
 },
 "nbformat": 4,
 "nbformat_minor": 5
}
